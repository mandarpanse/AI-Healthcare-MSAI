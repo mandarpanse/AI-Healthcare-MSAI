{
  "cells": [
    {
      "cell_type": "markdown",
      "metadata": {
        "id": "view-in-github",
        "colab_type": "text"
      },
      "source": [
        "<a href=\"https://colab.research.google.com/github/mandarpanse/AI-Healthcare-MSAI/blob/main/mimic_ML_DL-mar31_mortality_prediction.ipynb\" target=\"_parent\"><img src=\"https://colab.research.google.com/assets/colab-badge.svg\" alt=\"Open In Colab\"/></a>"
      ]
    },
    {
      "cell_type": "markdown",
      "id": "ed846ce2",
      "metadata": {
        "id": "ed846ce2"
      },
      "source": [
        "# MIMIC-III Neural Network: In-Hospital Mortality Prediction"
      ]
    },
    {
      "cell_type": "code",
      "execution_count": 1,
      "id": "9aa46de7",
      "metadata": {
        "id": "9aa46de7"
      },
      "outputs": [],
      "source": [
        "import pandas as pd\n",
        "from sklearn.model_selection import train_test_split\n",
        "from sklearn.preprocessing import OneHotEncoder\n",
        "from sklearn.metrics import classification_report, confusion_matrix\n",
        "import matplotlib.pyplot as plt\n",
        "import seaborn as sns\n",
        "import numpy as np\n",
        "from tensorflow.keras.models import Sequential\n",
        "from tensorflow.keras.layers import Dense, Dropout\n",
        "from tensorflow.keras.optimizers import Adam"
      ]
    },
    {
      "cell_type": "markdown",
      "id": "a6a2e68b",
      "metadata": {
        "id": "a6a2e68b"
      },
      "source": [
        "## Load and preprocess data"
      ]
    },
    {
      "cell_type": "code",
      "execution_count": 2,
      "id": "d638b6f6",
      "metadata": {
        "id": "d638b6f6"
      },
      "outputs": [],
      "source": [
        "admissions = pd.read_csv(\"ADMISSIONS.csv\")\n",
        "diagnoses_icd = pd.read_csv(\"DIAGNOSES_ICD.csv\")\n",
        "d_icd_diagnoses = pd.read_csv(\"D_ICD_DIAGNOSES.csv\")\n",
        "patients = pd.read_csv(\"PATIENTS.csv\")\n",
        "\n",
        "patients[\"dob\"] = pd.to_datetime(patients[\"dob\"], errors=\"coerce\")\n",
        "valid_patients = patients[(patients[\"dob\"].dt.year >= 1900) & (patients[\"dob\"].dt.year <= 2100)]"
      ]
    },
    {
      "cell_type": "markdown",
      "id": "45d7ca8b",
      "metadata": {
        "id": "45d7ca8b"
      },
      "source": [
        "## Merge data and extract features"
      ]
    },
    {
      "cell_type": "code",
      "execution_count": 3,
      "id": "acc32dbe",
      "metadata": {
        "id": "acc32dbe"
      },
      "outputs": [],
      "source": [
        "primary_diagnoses = diagnoses_icd[diagnoses_icd[\"seq_num\"] == 1]\n",
        "data = admissions.merge(valid_patients, on=\"subject_id\", how=\"inner\")\n",
        "data = data.merge(primary_diagnoses[[\"subject_id\", \"hadm_id\", \"icd9_code\"]], on=[\"subject_id\", \"hadm_id\"], how=\"left\")\n",
        "data = data.merge(d_icd_diagnoses[[\"icd9_code\", \"short_title\"]], on=\"icd9_code\", how=\"left\")\n",
        "\n",
        "data[\"admittime\"] = pd.to_datetime(data[\"admittime\"], errors=\"coerce\")\n",
        "data[\"age\"] = (data[\"admittime\"] - data[\"dob\"]).dt.days // 365\n",
        "data = data[(data[\"age\"] >= 0) & (data[\"age\"] <= 100)]"
      ]
    },
    {
      "cell_type": "markdown",
      "id": "d8c1b148",
      "metadata": {
        "id": "d8c1b148"
      },
      "source": [
        "## Prepare data for training"
      ]
    },
    {
      "cell_type": "code",
      "execution_count": 7,
      "id": "1919ba3f",
      "metadata": {
        "id": "1919ba3f"
      },
      "outputs": [],
      "source": [
        "features = data[[\"age\", \"gender\", \"ethnicity\", \"admission_type\", \"short_title\", \"hospital_expire_flag\"]].dropna()\n",
        "\n",
        "categorical_cols = [\"gender\", \"ethnicity\", \"admission_type\", \"short_title\"]\n",
        "encoder = OneHotEncoder(sparse_output=False, handle_unknown=\"ignore\")\n",
        "encoded_cats = encoder.fit_transform(features[categorical_cols])\n",
        "encoded_df = pd.DataFrame(encoded_cats, columns=encoder.get_feature_names_out(categorical_cols))\n",
        "\n",
        "X = pd.concat([features[[\"age\"]].reset_index(drop=True), encoded_df], axis=1)\n",
        "y = features[\"hospital_expire_flag\"]\n",
        "\n",
        "X_train, X_test, y_train, y_test = train_test_split(X, y, test_size=0.2, random_state=42)"
      ]
    },
    {
      "cell_type": "markdown",
      "id": "97510854",
      "metadata": {
        "id": "97510854"
      },
      "source": [
        "## Build and train the neural network"
      ]
    },
    {
      "cell_type": "code",
      "execution_count": 8,
      "id": "db830056",
      "metadata": {
        "colab": {
          "base_uri": "https://localhost:8080/"
        },
        "id": "db830056",
        "outputId": "574ae170-0914-48e2-d52f-e16bcaf56328"
      },
      "outputs": [
        {
          "output_type": "stream",
          "name": "stdout",
          "text": [
            "Epoch 1/10\n"
          ]
        },
        {
          "output_type": "stream",
          "name": "stderr",
          "text": [
            "/usr/local/lib/python3.11/dist-packages/keras/src/layers/core/dense.py:87: UserWarning: Do not pass an `input_shape`/`input_dim` argument to a layer. When using Sequential models, prefer using an `Input(shape)` object as the first layer in the model instead.\n",
            "  super().__init__(activity_regularizer=activity_regularizer, **kwargs)\n"
          ]
        },
        {
          "output_type": "stream",
          "name": "stdout",
          "text": [
            "\u001b[1m2/2\u001b[0m \u001b[32m━━━━━━━━━━━━━━━━━━━━\u001b[0m\u001b[37m\u001b[0m \u001b[1m2s\u001b[0m 247ms/step - accuracy: 0.4487 - loss: 2.4615 - val_accuracy: 0.5714 - val_loss: 0.9220\n",
            "Epoch 2/10\n",
            "\u001b[1m2/2\u001b[0m \u001b[32m━━━━━━━━━━━━━━━━━━━━\u001b[0m\u001b[37m\u001b[0m \u001b[1m0s\u001b[0m 76ms/step - accuracy: 0.6082 - loss: 1.9342 - val_accuracy: 0.5714 - val_loss: 1.6962\n",
            "Epoch 3/10\n",
            "\u001b[1m2/2\u001b[0m \u001b[32m━━━━━━━━━━━━━━━━━━━━\u001b[0m\u001b[37m\u001b[0m \u001b[1m0s\u001b[0m 63ms/step - accuracy: 0.5641 - loss: 2.5035 - val_accuracy: 0.5714 - val_loss: 2.3480\n",
            "Epoch 4/10\n",
            "\u001b[1m2/2\u001b[0m \u001b[32m━━━━━━━━━━━━━━━━━━━━\u001b[0m\u001b[37m\u001b[0m \u001b[1m0s\u001b[0m 67ms/step - accuracy: 0.6082 - loss: 2.6314 - val_accuracy: 0.5714 - val_loss: 2.2073\n",
            "Epoch 5/10\n",
            "\u001b[1m2/2\u001b[0m \u001b[32m━━━━━━━━━━━━━━━━━━━━\u001b[0m\u001b[37m\u001b[0m \u001b[1m0s\u001b[0m 67ms/step - accuracy: 0.5537 - loss: 2.5473 - val_accuracy: 0.5714 - val_loss: 1.7261\n",
            "Epoch 6/10\n",
            "\u001b[1m2/2\u001b[0m \u001b[32m━━━━━━━━━━━━━━━━━━━━\u001b[0m\u001b[37m\u001b[0m \u001b[1m0s\u001b[0m 66ms/step - accuracy: 0.5929 - loss: 1.7103 - val_accuracy: 0.5714 - val_loss: 1.3501\n",
            "Epoch 7/10\n",
            "\u001b[1m2/2\u001b[0m \u001b[32m━━━━━━━━━━━━━━━━━━━━\u001b[0m\u001b[37m\u001b[0m \u001b[1m0s\u001b[0m 69ms/step - accuracy: 0.6755 - loss: 1.3452 - val_accuracy: 0.5714 - val_loss: 1.2332\n",
            "Epoch 8/10\n",
            "\u001b[1m2/2\u001b[0m \u001b[32m━━━━━━━━━━━━━━━━━━━━\u001b[0m\u001b[37m\u001b[0m \u001b[1m0s\u001b[0m 108ms/step - accuracy: 0.6034 - loss: 2.0087 - val_accuracy: 0.5714 - val_loss: 1.1627\n",
            "Epoch 9/10\n",
            "\u001b[1m2/2\u001b[0m \u001b[32m━━━━━━━━━━━━━━━━━━━━\u001b[0m\u001b[37m\u001b[0m \u001b[1m0s\u001b[0m 67ms/step - accuracy: 0.5000 - loss: 1.5621 - val_accuracy: 0.5714 - val_loss: 1.1962\n",
            "Epoch 10/10\n",
            "\u001b[1m2/2\u001b[0m \u001b[32m━━━━━━━━━━━━━━━━━━━━\u001b[0m\u001b[37m\u001b[0m \u001b[1m0s\u001b[0m 77ms/step - accuracy: 0.4896 - loss: 2.4547 - val_accuracy: 0.5714 - val_loss: 1.2673\n"
          ]
        },
        {
          "output_type": "execute_result",
          "data": {
            "text/plain": [
              "<keras.src.callbacks.history.History at 0x7f91f540de90>"
            ]
          },
          "metadata": {},
          "execution_count": 8
        }
      ],
      "source": [
        "model = Sequential()\n",
        "model.add(Dense(128, input_dim=X.shape[1], activation='relu'))\n",
        "model.add(Dropout(0.3))\n",
        "model.add(Dense(64, activation='relu'))\n",
        "model.add(Dropout(0.3))\n",
        "model.add(Dense(1, activation='sigmoid'))\n",
        "\n",
        "model.compile(loss='binary_crossentropy', optimizer=Adam(learning_rate=0.001), metrics=['accuracy'])\n",
        "model.fit(X_train, y_train, validation_split=0.2, epochs=10, batch_size=32, verbose=1)"
      ]
    },
    {
      "cell_type": "markdown",
      "id": "e18f7c66",
      "metadata": {
        "id": "e18f7c66"
      },
      "source": [
        "## Evaluate the model"
      ]
    },
    {
      "cell_type": "code",
      "execution_count": 9,
      "id": "4e506d83",
      "metadata": {
        "colab": {
          "base_uri": "https://localhost:8080/"
        },
        "id": "4e506d83",
        "outputId": "8de289dd-9205-4d05-d2fb-12ba190b4ed0"
      },
      "outputs": [
        {
          "output_type": "stream",
          "name": "stdout",
          "text": [
            "\u001b[1m1/1\u001b[0m \u001b[32m━━━━━━━━━━━━━━━━━━━━\u001b[0m\u001b[37m\u001b[0m \u001b[1m0s\u001b[0m 75ms/step\n",
            "Classification Report:\n",
            "              precision    recall  f1-score   support\n",
            "\n",
            "           0       0.59      1.00      0.74        10\n",
            "           1       0.00      0.00      0.00         7\n",
            "\n",
            "    accuracy                           0.59        17\n",
            "   macro avg       0.29      0.50      0.37        17\n",
            "weighted avg       0.35      0.59      0.44        17\n",
            "\n"
          ]
        },
        {
          "output_type": "stream",
          "name": "stderr",
          "text": [
            "/usr/local/lib/python3.11/dist-packages/sklearn/metrics/_classification.py:1565: UndefinedMetricWarning: Precision is ill-defined and being set to 0.0 in labels with no predicted samples. Use `zero_division` parameter to control this behavior.\n",
            "  _warn_prf(average, modifier, f\"{metric.capitalize()} is\", len(result))\n",
            "/usr/local/lib/python3.11/dist-packages/sklearn/metrics/_classification.py:1565: UndefinedMetricWarning: Precision is ill-defined and being set to 0.0 in labels with no predicted samples. Use `zero_division` parameter to control this behavior.\n",
            "  _warn_prf(average, modifier, f\"{metric.capitalize()} is\", len(result))\n",
            "/usr/local/lib/python3.11/dist-packages/sklearn/metrics/_classification.py:1565: UndefinedMetricWarning: Precision is ill-defined and being set to 0.0 in labels with no predicted samples. Use `zero_division` parameter to control this behavior.\n",
            "  _warn_prf(average, modifier, f\"{metric.capitalize()} is\", len(result))\n"
          ]
        }
      ],
      "source": [
        "y_pred = (model.predict(X_test) > 0.5).astype(\"int32\").flatten()\n",
        "print(\"Classification Report:\")\n",
        "print(classification_report(y_test, y_pred))"
      ]
    },
    {
      "cell_type": "markdown",
      "id": "e71a981a",
      "metadata": {
        "id": "e71a981a"
      },
      "source": [
        "## Plot confusion matrix"
      ]
    },
    {
      "cell_type": "code",
      "execution_count": 10,
      "id": "c789c2dd",
      "metadata": {
        "colab": {
          "base_uri": "https://localhost:8080/",
          "height": 407
        },
        "id": "c789c2dd",
        "outputId": "b56b120d-fccb-4621-ecd8-d55d36708549"
      },
      "outputs": [
        {
          "output_type": "display_data",
          "data": {
            "text/plain": [
              "<Figure size 600x400 with 2 Axes>"
            ],
            "image/png": "[encoded data removed]"
          },
          "metadata": {}
        }
      ],
      "source": [
        "cm = confusion_matrix(y_test, y_pred)\n",
        "plt.figure(figsize=(6, 4))\n",
        "sns.heatmap(cm, annot=True, fmt=\"d\", cmap=\"Blues\", xticklabels=[\"Survived\", \"Expired\"], yticklabels=[\"Survived\", \"Expired\"])\n",
        "plt.xlabel(\"Predicted\")\n",
        "plt.ylabel(\"Actual\")\n",
        "plt.title(\"Neural Network Confusion Matrix\")\n",
        "plt.tight_layout()\n",
        "plt.show()"
      ]
    }
  ],
  "metadata": {
    "colab": {
      "provenance": [],
      "include_colab_link": true
    },
    "language_info": {
      "name": "python"
    },
    "kernelspec": {
      "name": "python3",
      "display_name": "Python 3"
    }
  },
  "nbformat": 4,
  "nbformat_minor": 5
}